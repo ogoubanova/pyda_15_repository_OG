{
 "cells": [
  {
   "cell_type": "code",
   "execution_count": 100,
   "metadata": {},
   "outputs": [
    {
     "name": "stdout",
     "output_type": "stream",
     "text": [
      "Правильный номер A222BC96. Регион: 96\n",
      "Неправильный номер АБ22ВВ193\n",
      "\n"
     ]
    }
   ],
   "source": [
    "## Домашнее заданиe 9. ОГ. Регулярные выражения. \n",
    "## Заднаие 1.\n",
    "\n",
    "# car_id = 'A222BC96'\n",
    "# Результат: Номер A222BС валиден. Регион: 96\n",
    "\n",
    "# car_id = 'АБ22ВВ193'\n",
    "\n",
    "import re\n",
    "\n",
    "def check_car_number(car_number):\n",
    "\n",
    "    num_pattern = r'(\\w{1})(\\d{3})(\\w{2})(\\d{2,3})'\n",
    "    num_pattern_result = re.search(num_pattern, car_number)\n",
    "    \n",
    "    if num_pattern_result:\n",
    "        region = num_pattern_result.group(4)\n",
    "        print(f'Правильный номер {car_number}. Регион: {region}')\n",
    "    else:\n",
    "        print(f'Неправильный номер {car_number}\\n')\n",
    "\n",
    "check_car_number('A222BC96')\n",
    "check_car_number('АБ22ВВ193')"
   ]
  },
  {
   "cell_type": "code",
   "execution_count": 115,
   "metadata": {},
   "outputs": [
    {
     "name": "stdout",
     "output_type": "stream",
     "text": [
      "Что такое регулярные выражения как их использовать\n"
     ]
    }
   ],
   "source": [
    "## Задание 2\n",
    "# Напишите функцию, которая будет удалять все последовательные повторы слов \n",
    "# из заданной строки при помощи регулярных выражений.\n",
    "\n",
    "# text = \"Что такое регулярные выражения и как их использовать? \n",
    "# Говоря простым языком, регулярное выражение — это последовательность символов, используемая для поиска и замены текста в строке или файле. Как уже было упомянуто,\\\n",
    "# их поддерживает множество языков общего назначения: Python, Perl, R.\n",
    "# Так что изучение регулярных выражений рано или поздно пригодится.\"\n",
    "\n",
    "def remove_repeat_wrd(text):\n",
    "    \n",
    "    new_text = re.sub(r'(\\s\\w+)(\\s\\w+)', r'\\1', text)\n",
    "    print(new_text)\n",
    "\n",
    "remove_repeat_wrd('Что такое такое регулярные выражения выражения и как как их использовать использовать')"
   ]
  },
  {
   "cell_type": "code",
   "execution_count": 21,
   "metadata": {},
   "outputs": [
    {
     "data": {
      "text/plain": [
       "'gmail.com'"
      ]
     },
     "execution_count": 21,
     "metadata": {},
     "output_type": "execute_result"
    }
   ],
   "source": [
    "emails_list = ['test@gmail.com', 'xyz@test.in', 'test@ya.ru', 'xyz@mail.ru', 'xyz@ya.ru', 'xyz@gmail.com']\n",
    "email_pattern = r'(\\w+)@(\\w+\\.\\w+)'\n",
    "email_match_result = re.search(email_pattern, 'test@gmail.com')\n",
    "email_match_result.group(2)"
   ]
  },
  {
   "cell_type": "code",
   "execution_count": 102,
   "metadata": {},
   "outputs": [
    {
     "name": "stdout",
     "output_type": "stream",
     "text": [
      "ИТ\n",
      "NFC\n",
      "ИТТ\n"
     ]
    }
   ],
   "source": [
    "## Задание 3. \n",
    "# Напишите функцию, которая будет возвращать акроним по переданной в нее строке со словами.\n",
    "\n",
    "def get_achronym(words):\n",
    "    \n",
    "#     word_pattern = \n",
    "#     achronym = ''\n",
    "    \n",
    "    ac_pattern = re.sub(r'(\\w{1})(\\w+)', r'\\1', words)\n",
    "    achronym = re.sub(r'(\\w+)(\\s)', r'\\1', ac_pattern)\n",
    "    print(achronym.strip(' ').upper())\n",
    "#     word_list = words.split()\n",
    "    \n",
    "#     for wrd in word_list:\n",
    "#         fl_match_result = re.search(word_pattern, wrd)\n",
    "#         fl = fl_match_result.group(1)\n",
    "#         achronym += fl\n",
    "        \n",
    "    \n",
    "        \n",
    "#     word_list = []\n",
    "#     word_list = words.split()\n",
    "#     word_len = len(word_list)\n",
    "    \n",
    "#     achronym_dict = {}\n",
    "    \n",
    "#     for wrd in word_list:\n",
    "#         achronym_dict[wrd] = wrd.upper()[0]\n",
    "\n",
    "#     achronym_list = ''\n",
    "#     for key in achronym_dict.keys():\n",
    "#         achronym_list += achronym_dict[key]\n",
    "    \n",
    "#     print(achronym_list)\n",
    "    \n",
    "    \n",
    "get_achronym('Информационные технологии')\n",
    "get_achronym('Near Field Communication')\n",
    "get_achronym('Информационные технологии технологий')"
   ]
  },
  {
   "cell_type": "code",
   "execution_count": 103,
   "metadata": {},
   "outputs": [
    {
     "name": "stdout",
     "output_type": "stream",
     "text": [
      "gmail.com: 2\n",
      "test.in: 1\n",
      "ya.ru: 2\n",
      "mail.ru: 1\n"
     ]
    }
   ],
   "source": [
    "## Задание 4\n",
    "\n",
    "import re\n",
    "\n",
    "emails_list = ['test@gmail.com', 'xyz@test.in', 'test@ya.ru', 'xyz@mail.ru', 'xyz@ya.ru', 'xyz@gmail.com']\n",
    "\n",
    "def sort_emails_by_domain(emails_list):\n",
    "    \n",
    "    email_pattern = r'(\\w+)@(\\w+.\\w+)'\n",
    "\n",
    "    email_dict = {}\n",
    "\n",
    "    for email in emails_list:\n",
    "    \n",
    "        email_match_result = re.search(email_pattern, email)\n",
    "        domain = email_match_result.group(2)\n",
    "\n",
    "        if email_dict.get(domain) is None:\n",
    "            email_dict[domain] = 1\n",
    "        else:\n",
    "            email_dict[domain] += 1\n",
    "        \n",
    "    for key in email_dict.keys():\n",
    "        print(f'{key}: {email_dict[key]}')\n",
    "        \n",
    "sort_emails_by_domain(emails_list)      "
   ]
  },
  {
   "cell_type": "code",
   "execution_count": null,
   "metadata": {},
   "outputs": [],
   "source": []
  },
  {
   "cell_type": "code",
   "execution_count": null,
   "metadata": {},
   "outputs": [],
   "source": []
  }
 ],
 "metadata": {
  "kernelspec": {
   "display_name": "Python 3",
   "language": "python",
   "name": "python3"
  },
  "language_info": {
   "codemirror_mode": {
    "name": "ipython",
    "version": 3
   },
   "file_extension": ".py",
   "mimetype": "text/x-python",
   "name": "python",
   "nbconvert_exporter": "python",
   "pygments_lexer": "ipython3",
   "version": "3.8.3"
  }
 },
 "nbformat": 4,
 "nbformat_minor": 4
}
