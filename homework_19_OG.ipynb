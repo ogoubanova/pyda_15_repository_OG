{
 "cells": [
  {
   "cell_type": "code",
   "execution_count": null,
   "metadata": {},
   "outputs": [],
   "source": [
    "# Смоделировать игру против лотерейного автомата типа \"777\". \n",
    "# Игрок платит 1 руб., после чего выпадает случайное целое число, равномерно распределенное от 0 до 999."
   ]
  },
  {
   "cell_type": "code",
   "execution_count": 39,
   "metadata": {},
   "outputs": [],
   "source": [
    "import numpy as np\n",
    "import pandas as pd\n",
    "import matplotlib.pyplot as plt"
   ]
  },
  {
   "cell_type": "code",
   "execution_count": 45,
   "metadata": {},
   "outputs": [],
   "source": [
    "trials = 1000000    # Количество попыток\n",
    "\n",
    "paid = 1\n",
    "win_score = 0\n",
    "for i in range(trials):\n",
    "        \n",
    "    number = np.random.randint(0, 1000)\n",
    "    \n",
    "    if number % 1000 == 999:\n",
    "        win_score += 100\n",
    "    elif number % 1000 == 777:\n",
    "        win_score += 200\n",
    "    elif number % 1000 == 555:\n",
    "        win_score += 50\n",
    "    elif number % 1000 == 333:\n",
    "        win_score += 15\n",
    "    elif number % 1000 == 111:\n",
    "        win_score +=10\n",
    "    elif number % 100 == 0:\n",
    "        win_score += 2\n",
    "    elif number % 100 == 77:\n",
    "        win_score += 5\n",
    "    elif number % 10 == 0:\n",
    "        win_score += 1\n",
    "    elif number % 10 == 7: #\n",
    "        win_score += 3\n",
    "        \n",
    "sum_won = win_score - trials*paid\n",
    "    \n",
    "           "
   ]
  },
  {
   "cell_type": "code",
   "execution_count": 46,
   "metadata": {},
   "outputs": [
    {
     "name": "stdout",
     "output_type": "stream",
     "text": [
      "Средняя величина проигрыша: -0.2 рублей в случае 1000000 попыток\n",
      "Вероятность проигрыша: 0.8\n"
     ]
    }
   ],
   "source": [
    "mean_win = sum_won/trials\n",
    "\n",
    "p_monte_carlo = round(win_score/trials, 2)\n",
    "\n",
    "if mean_win < 0:\n",
    "    print(f'Средняя величина проигрыша: {round(mean_win, 2)} рублей в случае {trials} попыток')\n",
    "    print(f'Вероятность проигрыша: {p_monte_carlo}')\n",
    "else:\n",
    "    print(f'Средняя величина выигрыша: {mean_win}')\n",
    "\n",
    "\n"
   ]
  },
  {
   "cell_type": "code",
   "execution_count": 47,
   "metadata": {},
   "outputs": [
    {
     "data": {
      "text/plain": [
       "-198967"
      ]
     },
     "execution_count": 47,
     "metadata": {},
     "output_type": "execute_result"
    }
   ],
   "source": [
    "sum_won"
   ]
  }
 ],
 "metadata": {
  "kernelspec": {
   "display_name": "Python 3",
   "language": "python",
   "name": "python3"
  },
  "language_info": {
   "codemirror_mode": {
    "name": "ipython",
    "version": 3
   },
   "file_extension": ".py",
   "mimetype": "text/x-python",
   "name": "python",
   "nbconvert_exporter": "python",
   "pygments_lexer": "ipython3",
   "version": "3.8.3"
  }
 },
 "nbformat": 4,
 "nbformat_minor": 4
}
