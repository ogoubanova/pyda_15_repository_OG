{
 "cells": [
  {
   "cell_type": "code",
   "execution_count": 60,
   "metadata": {},
   "outputs": [
    {
     "name": "stdout",
     "output_type": "stream",
     "text": [
      "Валююта СДР (специальные права заимствования) - максимальное значение: 107.5392\n",
      "\n"
     ]
    },
    {
     "data": {
      "text/plain": [
       "'СДР (специальные права заимствования)'"
      ]
     },
     "execution_count": 60,
     "metadata": {},
     "output_type": "execute_result"
    }
   ],
   "source": [
    "# ДЗ 8. Класссы. ОГ\n",
    "# Задание 1.\n",
    "# Напишите функцию, которая возвращает название валюты (поле ‘Name’) \n",
    "# с максимальным значением курса с помощью сервиса https://www.cbr-xml-daily.ru/daily_json.js\n",
    "\n",
    "\n",
    "import requests\n",
    "\n",
    "def get_max_currency_name():\n",
    "    max_val = 0.0\n",
    "    \n",
    "    reqs = requests.get('https://www.cbr-xml-daily.ru/daily_json.js')\n",
    "    data = reqs.json()['Valute']\n",
    "\n",
    "    for key in data.keys():\n",
    "        val = data[key]['Value']\n",
    "        if val > max_val:\n",
    "            max_val = val\n",
    "            max_name = data[key]['Name']\n",
    "    \n",
    "    print(f'Валююта {max_name} - максимальное значение: {max_val}\\n')    \n",
    "    \n",
    "    return(max_name)\n",
    "\n",
    "get_max_currency_name()"
   ]
  },
  {
   "cell_type": "code",
   "execution_count": 18,
   "metadata": {},
   "outputs": [],
   "source": [
    "## Задание 2\n",
    "# Добавьте в класс Rate параметр diff (со значениями True или False), \n",
    "# который в случае значения True в методах курсов валют (eur, usd итд) \n",
    "# будет возвращать не курс валюты, а изменение по сравнению в прошлым значением. \n",
    "# Считайте, self.diff будет принимать значение True только при возврате значения курса. \n",
    "# При отображении всей информации о валюте он не используется.\n",
    "\n",
    "import requests\n",
    "\n",
    "class Rate:\n",
    "    def __init__(self, format_='value', diff_=False):\n",
    "        self.format = format_\n",
    "        self.diff = diff_\n",
    "    \n",
    "    def exchange_rates(self):\n",
    "        \"\"\"\n",
    "        Возвращает ответ сервиса с информацией о валютах в виде:\n",
    "        \n",
    "        {\n",
    "            'AMD': {\n",
    "                'CharCode': 'AMD',\n",
    "                'ID': 'R01060',\n",
    "                'Name': 'Армянских драмов',\n",
    "                'Nominal': 100,\n",
    "                'NumCode': '051',\n",
    "                'Previous': 14.103,\n",
    "                'Value': 14.0879\n",
    "                },\n",
    "            ...\n",
    "        }\n",
    "        \"\"\"\n",
    "        self.r = requests.get('https://www.cbr-xml-daily.ru/daily_json.js')\n",
    "        return self.r.json()['Valute']\n",
    "    \n",
    "    def make_format(self, currency):\n",
    "        \"\"\"\n",
    "        Возвращает информацию о валюте currency в двух вариантах:\n",
    "        - полная информация о валюте при self.format = 'full':\n",
    "        Rate('full').make_format('EUR')\n",
    "        {\n",
    "            'CharCode': 'EUR',\n",
    "            'ID': 'R01239',\n",
    "            'Name': 'Евро',\n",
    "            'Nominal': 1,\n",
    "            'NumCode': '978',\n",
    "            'Previous': 79.6765,\n",
    "            'Value': 79.4966\n",
    "        }\n",
    "        \n",
    "        Rate('value').make_format('EUR')\n",
    "        79.4966\n",
    "        \"\"\"\n",
    "        response = self.exchange_rates()\n",
    "        \n",
    "        if currency in response:\n",
    "            if self.format == 'full':\n",
    "                return response[currency]\n",
    "            \n",
    "            if self.format == 'value' and self.diff == False:\n",
    "#                 print(response[currency]['Value'])\n",
    "#                 print(response[currency]['Previous'])\n",
    "                return response[currency]['Value']-response[currency]['Previous']\n",
    "        \n",
    "        return 'Error'\n",
    "    \n",
    "    def eur(self):\n",
    "        \"\"\"Возвращает курс евро на сегодня в формате self.format\"\"\"\n",
    "        return self.make_format('EUR')\n",
    "    \n",
    "    def usd(self):\n",
    "        \"\"\"Возвращает курс доллара на сегодня в формате self.format\"\"\"\n",
    "        return self.make_format('USD')\n",
    "    \n",
    "    def brl(self):\n",
    "        \"\"\"Возвращает курс бразильского реала на сегодня в формате self.format\"\"\"\n",
    "        return self.make_format('BRL')\n",
    "    "
   ]
  },
  {
   "cell_type": "code",
   "execution_count": 19,
   "metadata": {},
   "outputs": [],
   "source": [
    "r = Rate(format_='value')"
   ]
  },
  {
   "cell_type": "code",
   "execution_count": 21,
   "metadata": {},
   "outputs": [
    {
     "data": {
      "text/plain": [
       "-0.34189999999999543"
      ]
     },
     "execution_count": 21,
     "metadata": {},
     "output_type": "execute_result"
    }
   ],
   "source": [
    "r.usd()"
   ]
  },
  {
   "cell_type": "code",
   "execution_count": 22,
   "metadata": {},
   "outputs": [
    {
     "data": {
      "text/plain": [
       "-0.00539999999999452"
      ]
     },
     "execution_count": 22,
     "metadata": {},
     "output_type": "execute_result"
    }
   ],
   "source": [
    "r.eur()"
   ]
  },
  {
   "cell_type": "code",
   "execution_count": 54,
   "metadata": {},
   "outputs": [],
   "source": [
    "## Задание 3.\n",
    "\n",
    "class Employee:\n",
    "    def __init__(self, name, seniority):\n",
    "        self.name = name\n",
    "        self.seniority = seniority\n",
    "        \n",
    "        self.grade = 1\n",
    "    \n",
    "    def grade_up(self):\n",
    "        \"\"\"Повышает уровень сотрудника\"\"\"\n",
    "        self.grade += 1\n",
    "    \n",
    "    def publish_grade(self):\n",
    "        \"\"\"Публикация результатов аккредитации сотрудников\"\"\"\n",
    "        print(self.name, self.grade)\n",
    "    \n",
    "    def check_if_it_is_time_for_upgrade(self):\n",
    "        pass\n",
    "    \n",
    "class Designer(Employee):\n",
    "    def __init__(self, name, seniority):\n",
    "        super().__init__(name, seniority)\n",
    "        self.grade = 4\n",
    "    \n",
    "    def check_if_it_is_time_for_upgrade(self):\n",
    "        # для каждой аккредитации увеличиваем счетчик на 1\n",
    "        # пока считаем, что все дизайнеры проходят аккредитацию\n",
    "        self.seniority += 1\n",
    "        \n",
    "        # условие повышения сотрудника из презентации\n",
    "        if self.seniority % 7 == 0:\n",
    "            self.grade_up()\n",
    "        \n",
    "        # публикация результатов\n",
    "        return self.publish_grade()"
   ]
  },
  {
   "cell_type": "code",
   "execution_count": 70,
   "metadata": {},
   "outputs": [],
   "source": [
    "emma = Designer('Эмма', 4)"
   ]
  },
  {
   "cell_type": "code",
   "execution_count": 71,
   "metadata": {},
   "outputs": [
    {
     "name": "stdout",
     "output_type": "stream",
     "text": [
      "Эмма 4\n",
      "Эмма 4\n",
      "Эмма 5\n",
      "Эмма 5\n",
      "Эмма 5\n",
      "Эмма 5\n",
      "Эмма 5\n",
      "Эмма 5\n",
      "Эмма 5\n",
      "Эмма 6\n",
      "Эмма 6\n",
      "Эмма 6\n",
      "Эмма 6\n",
      "Эмма 6\n",
      "Эмма 6\n"
     ]
    }
   ],
   "source": [
    "for i in range(15):\n",
    "    emma.check_if_it_is_time_for_upgrade()"
   ]
  },
  {
   "cell_type": "code",
   "execution_count": 74,
   "metadata": {},
   "outputs": [],
   "source": [
    "vlad = Designer('Владимир', 4)"
   ]
  },
  {
   "cell_type": "code",
   "execution_count": 75,
   "metadata": {},
   "outputs": [
    {
     "name": "stdout",
     "output_type": "stream",
     "text": [
      "Владимир 4\n",
      "Владимир 4\n",
      "Владимир 5\n",
      "Владимир 5\n",
      "Владимир 5\n",
      "Владимир 5\n",
      "Владимир 5\n",
      "Владимир 5\n",
      "Владимир 5\n",
      "Владимир 6\n",
      "Владимир 6\n",
      "Владимир 6\n",
      "Владимир 6\n",
      "Владимир 6\n",
      "Владимир 6\n"
     ]
    }
   ],
   "source": [
    "for i in range(15):\n",
    "    vlad.check_if_it_is_time_for_upgrade()"
   ]
  },
  {
   "cell_type": "code",
   "execution_count": null,
   "metadata": {},
   "outputs": [],
   "source": []
  }
 ],
 "metadata": {
  "kernelspec": {
   "display_name": "Python 3",
   "language": "python",
   "name": "python3"
  },
  "language_info": {
   "codemirror_mode": {
    "name": "ipython",
    "version": 3
   },
   "file_extension": ".py",
   "mimetype": "text/x-python",
   "name": "python",
   "nbconvert_exporter": "python",
   "pygments_lexer": "ipython3",
   "version": "3.8.3"
  }
 },
 "nbformat": 4,
 "nbformat_minor": 4
}
