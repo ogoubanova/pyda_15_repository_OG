{
 "cells": [
  {
   "cell_type": "code",
   "execution_count": null,
   "metadata": {},
   "outputs": [],
   "source": [
    "# Смоделировать игру против лотерейного автомата типа \"777\". \n",
    "# Игрок платит 1 руб., после чего выпадает случайное целое число, равномерно распределенное от 0 до 999."
   ]
  },
  {
   "cell_type": "code",
   "execution_count": 2,
   "metadata": {},
   "outputs": [],
   "source": [
    "import numpy as np"
   ]
  },
  {
   "cell_type": "code",
   "execution_count": 5,
   "metadata": {},
   "outputs": [],
   "source": [
    "trials = 1000000    # Количество попыток\n",
    "\n",
    "res = {}\n",
    "\n",
    "win_score = 0\n",
    "for i in range(trials):\n",
    "#     if i % 1000 == 0:\n",
    "#         print(f'Iteration {i}')\n",
    "        \n",
    "    number = np.random.randint(100, 1000)\n",
    "    \n",
    "    if number % 1000 == 999:\n",
    "        win_score += 100\n",
    "    elif number % 1000 == 555:\n",
    "        win_score += 50\n",
    "    elif number % 1000 == 333:\n",
    "        win_score += 15\n",
    "    elif number % 1000 == 111:\n",
    "        win_score +=10\n",
    "    elif number % 10 == 0:\n",
    "        win_score += 1\n",
    "    elif number % 100 == 0:\n",
    "        win_score += 2\n",
    "    elif number % 1000 == 777:\n",
    "        win_score += 200\n",
    "    elif number % 100 == 77:\n",
    "        win_score += 5\n",
    "    elif number % 10 == 7: #\n",
    "        win_score += 3\n",
    "        \n",
    "    res[i] = win_score - i + 1\n",
    "    \n",
    "            "
   ]
  },
  {
   "cell_type": "code",
   "execution_count": 22,
   "metadata": {},
   "outputs": [
    {
     "name": "stdout",
     "output_type": "stream",
     "text": [
      "Средняя величина проигрыша: -88503.39 рублей в случае 1000000 попыток\n",
      "Вероятность проигрыша: 0.82\n"
     ]
    }
   ],
   "source": [
    "val_sum = 0\n",
    "for val in res.values():\n",
    "    val_sum += val\n",
    "\n",
    "mean_win = val_sum/trials\n",
    "\n",
    "p_monte_carlo = round(win_score/trials, 2)\n",
    "\n",
    "if mean_win < 0:\n",
    "    print(f'Средняя величина проигрыша: {round(mean_win, 2)} рублей в случае {trials} попыток')\n",
    "    print(f'Вероятность проигрыша: {p_monte_carlo}')\n",
    "else:\n",
    "    print(f'Средняя величина выигрыша: {mean_win}')\n",
    "\n",
    "\n"
   ]
  },
  {
   "cell_type": "code",
   "execution_count": null,
   "metadata": {},
   "outputs": [],
   "source": []
  }
 ],
 "metadata": {
  "kernelspec": {
   "display_name": "Python 3",
   "language": "python",
   "name": "python3"
  },
  "language_info": {
   "codemirror_mode": {
    "name": "ipython",
    "version": 3
   },
   "file_extension": ".py",
   "mimetype": "text/x-python",
   "name": "python",
   "nbconvert_exporter": "python",
   "pygments_lexer": "ipython3",
   "version": "3.8.3"
  }
 },
 "nbformat": 4,
 "nbformat_minor": 4
}
