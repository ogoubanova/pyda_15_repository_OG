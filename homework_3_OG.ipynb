{
 "cells": [
  {
   "cell_type": "code",
   "execution_count": 30,
   "metadata": {},
   "outputs": [
    {
     "name": "stdout",
     "output_type": "stream",
     "text": [
      "Результат:  {98, 35, 15, 213, 54, 119}\n"
     ]
    }
   ],
   "source": [
    "## Homework 3 УКиК 2\n",
    "## Задание 1\n",
    "\n",
    "ids = {'user1': [213, 213, 213, 15, 213],\n",
    "'user2': [54, 54, 119, 119, 119],\n",
    "'user3': [213, 98, 98, 35]}\n",
    "\n",
    "all_geo_ids = {}\n",
    "uniq_geo_id = []\n",
    "\n",
    "for uid, geo_id in ids.items():\n",
    "    uniq_geo_id += geo_id\n",
    "    uniq_geo_id.sort()\n",
    "    #print(uid, uniq_geo_id)\n",
    "    \n",
    "all_geo_ids = set(uniq_geo_id)\n",
    "print('Результат: ', all_geo_ids)\n"
   ]
  },
  {
   "cell_type": "code",
   "execution_count": 53,
   "metadata": {},
   "outputs": [
    {
     "name": "stdout",
     "output_type": "stream",
     "text": [
      "Поисковых запросов, содержащих 2 слов(а): 42.86%\n",
      "Поисковых запросов, содержащих 3 слов(а): 57.14%\n"
     ]
    }
   ],
   "source": [
    "## Задание 2\n",
    "\n",
    "queries = [\n",
    "'смотреть сериалы онлайн',\n",
    "'новости спорта',\n",
    "'афиша кино',\n",
    "'курс доллара',\n",
    "'сериалы этим летом',\n",
    "'курс по питону',\n",
    "'сериалы про спорт',\n",
    "]\n",
    "\n",
    "two_wrd_cnt = 0\n",
    "three_wrd_cnt = 0\n",
    "cnt = 0\n",
    "\n",
    "for line in queries:\n",
    "    line_len = len(line.split())\n",
    "    #print(line.split())\n",
    "    if line_len == 2: \n",
    "        two_wrd_cnt = two_wrd_cnt+1 \n",
    "    \n",
    "    if line_len == 3:\n",
    "        three_wrd_cnt = three_wrd_cnt+1 \n",
    "cnt = len(queries)\n",
    "    \n",
    "if cnt > 0:\n",
    "    two_wrd_cnt = 100.00*two_wrd_cnt/cnt\n",
    "    three_wrd_cnt = 100.00*three_wrd_cnt/cnt\n",
    "    print(f'Поисковых запросов, содержащих 2 слов(а): {two_wrd_cnt:.2f}%')\n",
    "    print(f'Поисковых запросов, содержащих 3 слов(а): {three_wrd_cnt:.2f}%')"
   ]
  },
  {
   "cell_type": "code",
   "execution_count": 1,
   "metadata": {},
   "outputs": [
    {
     "name": "stdout",
     "output_type": "stream",
     "text": [
      "Максимальный объем продаж на рекламном канале: 'vk'\n"
     ]
    }
   ],
   "source": [
    "## Задание 4\n",
    "\n",
    "max_value = 0\n",
    "stats = {'facebook': 55, 'yandex': 115, 'vk': 120, 'google': 99, 'email': 42, 'ok': 98}\n",
    "\n",
    "for key, item in stats.items():\n",
    "    value = int(item)\n",
    "#     print(value)\n",
    "    if value > max_value:\n",
    "        max_value = value\n",
    "        max_key = key\n",
    "    else:\n",
    "        continue\n",
    "print(f'Максимальный объем продаж на рекламном канале: \\'{max_key}\\'')"
   ]
  },
  {
   "cell_type": "code",
   "execution_count": 5,
   "metadata": {},
   "outputs": [
    {
     "name": "stdout",
     "output_type": "stream",
     "text": [
      "'vk', {'ROI': 5.1, 'cost': 98, 'revenue': 103}\n",
      "'yandex', {'ROI': 16.99, 'cost': 153, 'revenue': 179}\n",
      "'facebook', {'ROI': -6.36, 'cost': 110, 'revenue': 103}\n",
      "'adwords', {'ROI': 2.94, 'cost': 34, 'revenue': 35}\n",
      "'twitter', {'ROI': -54.17, 'cost': 24, 'revenue': 11}\n"
     ]
    }
   ],
   "source": [
    "## Задание 3\n",
    "\n",
    "results = {\n",
    "'vk': {'revenue': 103, 'cost': 98},\n",
    "'yandex': {'revenue': 179, 'cost': 153},\n",
    "'facebook': {'revenue': 103, 'cost': 110},\n",
    "'adwords': {'revenue': 35, 'cost': 34},\n",
    "'twitter': {'revenue': 11, 'cost': 24},\n",
    "}\n",
    "\n",
    "# revenue / cost - 1) * 100\n",
    "\n",
    "new_results = {}\n",
    "data = {}\n",
    "\n",
    "for key, info in results.items():\n",
    "    #print(key, info)\n",
    "    #print(type(key))\n",
    "    \n",
    "    roi_val = round((results[key]['revenue']/results[key]['cost'] - 1) * 100, 2)\n",
    "    #print(roi_val)\n",
    "    \n",
    "    new_results['ROI'] = roi_val\n",
    "    #print(new_results)\n",
    "    \n",
    "    new_results['cost'] = results[key]['cost']\n",
    "    new_results['revenue'] = results[key]['revenue']\n",
    "    \n",
    "    data[key] = new_results\n",
    "    print(f'\\'{key}\\', {data[key]}')\n",
    "\n",
    "\n",
    "#print(data)"
   ]
  }
 ],
 "metadata": {
  "kernelspec": {
   "display_name": "Python 3",
   "language": "python",
   "name": "python3"
  },
  "language_info": {
   "codemirror_mode": {
    "name": "ipython",
    "version": 3
   },
   "file_extension": ".py",
   "mimetype": "text/x-python",
   "name": "python",
   "nbconvert_exporter": "python",
   "pygments_lexer": "ipython3",
   "version": "3.8.3"
  }
 },
 "nbformat": 4,
 "nbformat_minor": 4
}
