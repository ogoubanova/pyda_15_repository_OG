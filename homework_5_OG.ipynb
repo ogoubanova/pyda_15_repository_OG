{
 "cells": [
  {
   "cell_type": "code",
   "execution_count": 6,
   "metadata": {},
   "outputs": [
    {
     "name": "stdout",
     "output_type": "stream",
     "text": [
      "{'1840e0b9d4': 'Продукты', '4e4f90fcfb': 'Электроника', 'afea8d72fc': 'Электроника', '373a6055fe': 'Бытовая техника', '9b2ab046f3': 'Электроника'}\n",
      "Processed 99999.0 lines. Number of keys 99517\n",
      "\n"
     ]
    }
   ],
   "source": [
    "## Homework 5. Запись и чтениие из файлов. OG\n",
    "## Задание 1.\n",
    "\n",
    "import json\n",
    "\n",
    "ii = 0.0\n",
    "purchases = {}\n",
    "\n",
    "with open('purchase_log.txt', encoding='utf-8') as f:\n",
    "    f.readline()\n",
    "    with open('purchases.txt', 'w') as f2write:\n",
    "        for line in f:\n",
    "            item = json.loads(line.strip())\n",
    "            key = str(item['user_id'])\n",
    "            value = str(item['category'])\n",
    "            purchases[key] = value\n",
    "            ii += 1\n",
    "            if ii == 5:\n",
    "                print(purchases)\n",
    "\n",
    "#             if ii > 5:\n",
    "#                 break\n",
    "            \n",
    "            \n",
    "            \n",
    "print(f'Processed {ii} lines. Number of keys {len(purchases.keys())}\\n')"
   ]
  },
  {
   "cell_type": "code",
   "execution_count": 13,
   "metadata": {},
   "outputs": [
    {
     "name": "stdout",
     "output_type": "stream",
     "text": [
      "1840e0b9d4, other, Продукты\n",
      "\n",
      "4e4f90fcfb, context, Электроника\n",
      "\n",
      "afea8d72fc, other, Электроника\n",
      "\n",
      "2824221f38, email, Продукты\n",
      "\n",
      "373a6055fe, other, Бытовая техника\n",
      "\n",
      "9b2ab046f3, other, Электроника\n",
      "\n",
      "9f39d307c3, context, Электроника\n",
      "\n",
      "44edeffc91, context, Продукты\n",
      "\n",
      "704474fa2d, other, Продукты\n",
      "\n",
      "1de31be403, other, Бытовая техника\n",
      "\n",
      "Found 13798 matches\n",
      "\n"
     ]
    }
   ],
   "source": [
    "## Задание 2\n",
    "\n",
    "ii = 0\n",
    "jj = 0\n",
    "with open('visit_log.csv', 'r', encoding = 'utf-8') as f_visit:\n",
    "    f_visit.readline()\n",
    "    with open('funnel.csv', 'w', encoding = 'utf-8') as f2write:\n",
    "        for line_visits in f_visit:\n",
    "            line_visits = line_visits.strip('\\n').split(',')\n",
    "\n",
    "            if line_visits[0] in purchases:\n",
    "                category = purchases[line_visits[0]]\n",
    "            \n",
    "                if jj < 10:\n",
    "                    print(f'{line_visits[0]}, {line_visits[1]}, {category}\\n')\n",
    "                jj += 1\n",
    "\n",
    "                f2write.write(f'{line_visits[0]}, {line_visits[1]}, {category}\\n')\n",
    "        print(f'Found {jj} matches\\n')                \n",
    "#             ii += 1    \n",
    "#                 if ii < 10:\n",
    "#                     print(f'{line_visits[0]}, {line_visits[1]}, {category}\\n')\n",
    "\n",
    "# print(f'Processed {ii} lines.\\n')"
   ]
  },
  {
   "cell_type": "code",
   "execution_count": null,
   "metadata": {},
   "outputs": [],
   "source": [
    "\n"
   ]
  }
 ],
 "metadata": {
  "kernelspec": {
   "display_name": "Python 3",
   "language": "python",
   "name": "python3"
  },
  "language_info": {
   "codemirror_mode": {
    "name": "ipython",
    "version": 3
   },
   "file_extension": ".py",
   "mimetype": "text/x-python",
   "name": "python",
   "nbconvert_exporter": "python",
   "pygments_lexer": "ipython3",
   "version": "3.8.3"
  }
 },
 "nbformat": 4,
 "nbformat_minor": 4
}
