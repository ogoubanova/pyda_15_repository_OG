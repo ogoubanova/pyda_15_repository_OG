{
 "cells": [
  {
   "cell_type": "code",
   "execution_count": null,
   "metadata": {},
   "outputs": [],
   "source": [
    "# Задание 16. Базовые понятия статистики\n",
    "# Задание 1.\n",
    "# Выбраны скедуюющие параметры\n",
    "# 2:  Age -- Numeric/Continuous (NC)\n",
    "# 4:  rectal temperature -- NC\n",
    "# 5:  pulse -- NC\n",
    "# 7:  temperature of extremities -- Nominal (Nom)\n",
    "# 9:  mucous membranes -- Niminal (N)\n",
    "# 11: pain - Nominal (Nom)\n",
    "# 12: peristalsis -- Nominal (Nom)\n",
    "# 13: abdominal distension -- Ordinal (Nom)\n",
    " "
   ]
  },
  {
   "cell_type": "code",
   "execution_count": 3,
   "metadata": {},
   "outputs": [],
   "source": [
    "import pandas as pd\n",
    "import numpy as np"
   ]
  },
  {
   "cell_type": "code",
   "execution_count": 121,
   "metadata": {},
   "outputs": [
    {
     "data": {
      "text/html": [
       "<div>\n",
       "<style scoped>\n",
       "    .dataframe tbody tr th:only-of-type {\n",
       "        vertical-align: middle;\n",
       "    }\n",
       "\n",
       "    .dataframe tbody tr th {\n",
       "        vertical-align: top;\n",
       "    }\n",
       "\n",
       "    .dataframe thead th {\n",
       "        text-align: right;\n",
       "    }\n",
       "</style>\n",
       "<table border=\"1\" class=\"dataframe\">\n",
       "  <thead>\n",
       "    <tr style=\"text-align: right;\">\n",
       "      <th></th>\n",
       "      <th>age</th>\n",
       "      <th>rec_temp</th>\n",
       "      <th>pulse</th>\n",
       "      <th>extr_temp</th>\n",
       "      <th>muc_membranes</th>\n",
       "      <th>pain</th>\n",
       "      <th>peristalsis</th>\n",
       "      <th>abd_dist</th>\n",
       "    </tr>\n",
       "  </thead>\n",
       "  <tbody>\n",
       "    <tr>\n",
       "      <th>count</th>\n",
       "      <td>299.00000</td>\n",
       "      <td>239.000000</td>\n",
       "      <td>275.000000</td>\n",
       "      <td>243.000000</td>\n",
       "      <td>253.000000</td>\n",
       "      <td>267.000000</td>\n",
       "      <td>255.000000</td>\n",
       "      <td>243.000000</td>\n",
       "    </tr>\n",
       "    <tr>\n",
       "      <th>mean</th>\n",
       "      <td>1.64214</td>\n",
       "      <td>38.166527</td>\n",
       "      <td>71.934545</td>\n",
       "      <td>2.345679</td>\n",
       "      <td>2.853755</td>\n",
       "      <td>1.303371</td>\n",
       "      <td>2.913725</td>\n",
       "      <td>2.259259</td>\n",
       "    </tr>\n",
       "    <tr>\n",
       "      <th>std</th>\n",
       "      <td>2.17730</td>\n",
       "      <td>0.733508</td>\n",
       "      <td>28.680522</td>\n",
       "      <td>1.046369</td>\n",
       "      <td>1.620294</td>\n",
       "      <td>0.476623</td>\n",
       "      <td>0.976298</td>\n",
       "      <td>1.061472</td>\n",
       "    </tr>\n",
       "    <tr>\n",
       "      <th>min</th>\n",
       "      <td>1.00000</td>\n",
       "      <td>35.400000</td>\n",
       "      <td>30.000000</td>\n",
       "      <td>1.000000</td>\n",
       "      <td>1.000000</td>\n",
       "      <td>1.000000</td>\n",
       "      <td>1.000000</td>\n",
       "      <td>1.000000</td>\n",
       "    </tr>\n",
       "    <tr>\n",
       "      <th>25%</th>\n",
       "      <td>1.00000</td>\n",
       "      <td>37.800000</td>\n",
       "      <td>48.000000</td>\n",
       "      <td>1.000000</td>\n",
       "      <td>1.000000</td>\n",
       "      <td>1.000000</td>\n",
       "      <td>3.000000</td>\n",
       "      <td>1.000000</td>\n",
       "    </tr>\n",
       "    <tr>\n",
       "      <th>50%</th>\n",
       "      <td>1.00000</td>\n",
       "      <td>38.200000</td>\n",
       "      <td>64.000000</td>\n",
       "      <td>3.000000</td>\n",
       "      <td>3.000000</td>\n",
       "      <td>1.000000</td>\n",
       "      <td>3.000000</td>\n",
       "      <td>2.000000</td>\n",
       "    </tr>\n",
       "    <tr>\n",
       "      <th>75%</th>\n",
       "      <td>1.00000</td>\n",
       "      <td>38.500000</td>\n",
       "      <td>88.000000</td>\n",
       "      <td>3.000000</td>\n",
       "      <td>4.000000</td>\n",
       "      <td>2.000000</td>\n",
       "      <td>4.000000</td>\n",
       "      <td>3.000000</td>\n",
       "    </tr>\n",
       "    <tr>\n",
       "      <th>max</th>\n",
       "      <td>9.00000</td>\n",
       "      <td>40.800000</td>\n",
       "      <td>184.000000</td>\n",
       "      <td>4.000000</td>\n",
       "      <td>6.000000</td>\n",
       "      <td>3.000000</td>\n",
       "      <td>4.000000</td>\n",
       "      <td>4.000000</td>\n",
       "    </tr>\n",
       "  </tbody>\n",
       "</table>\n",
       "</div>"
      ],
      "text/plain": [
       "             age    rec_temp       pulse   extr_temp  muc_membranes  \\\n",
       "count  299.00000  239.000000  275.000000  243.000000     253.000000   \n",
       "mean     1.64214   38.166527   71.934545    2.345679       2.853755   \n",
       "std      2.17730    0.733508   28.680522    1.046369       1.620294   \n",
       "min      1.00000   35.400000   30.000000    1.000000       1.000000   \n",
       "25%      1.00000   37.800000   48.000000    1.000000       1.000000   \n",
       "50%      1.00000   38.200000   64.000000    3.000000       3.000000   \n",
       "75%      1.00000   38.500000   88.000000    3.000000       4.000000   \n",
       "max      9.00000   40.800000  184.000000    4.000000       6.000000   \n",
       "\n",
       "             pain  peristalsis    abd_dist  \n",
       "count  267.000000   255.000000  243.000000  \n",
       "mean     1.303371     2.913725    2.259259  \n",
       "std      0.476623     0.976298    1.061472  \n",
       "min      1.000000     1.000000    1.000000  \n",
       "25%      1.000000     3.000000    1.000000  \n",
       "50%      1.000000     3.000000    2.000000  \n",
       "75%      2.000000     4.000000    3.000000  \n",
       "max      3.000000     4.000000    4.000000  "
      ]
     },
     "execution_count": 121,
     "metadata": {},
     "output_type": "execute_result"
    }
   ],
   "source": [
    "# Выводы:\n",
    "#     'age' -- за помощью обращались хозяева молодых лошадей \n",
    "#     'rec_temp', 'pulse' - средняя ректальная температура 38.16 градусов, пульс 71.93 медиана=64), \n",
    "#     'extr_temp' - ср. температура конечностей: 2 - 'теплые', значение медианы=3 (холодные)\n",
    "#     'muc_membranes' -- ср. ззначение 2.85 (медиана = 3) - слизистые бледно-розовоые\n",
    "#     'pain' -- ср. уровень боли, ближе к 1 ('normal'), то есть без болевого синдрома\n",
    "#     'peristalsis' -- ср. значение 2.9 (медиана = 3)-- показатель гипомотильного состояния\n",
    "#     'abd_dist' -- ср. значение 2.26 (медиана = 2)-- легкий запор \n",
    "\n",
    "horse_data = pd.read_csv('horse_data.csv',na_values=['?', 'NaN', 'NAN', None, np.nan, np.NaN, np.NAN])\n",
    "\n",
    "selected_categories = [1, 3, 4, 6, 8, 9, 11, 12]\n",
    "df = horse_data.iloc[:, selected_categories ]\n",
    "columns = ['age', 'rec_temp', 'pulse', 'extr_temp', 'muc_membranes', 'pain', 'peristalsis', 'abd_dist']\n",
    "df.columns = columns\n",
    "description = df.describe()\n",
    "description"
   ]
  },
  {
   "cell_type": "code",
   "execution_count": 615,
   "metadata": {},
   "outputs": [
    {
     "data": {
      "text/plain": [
       "age               1.0\n",
       "rec_temp         38.2\n",
       "pulse            64.0\n",
       "extr_temp         3.0\n",
       "muc_membranes     3.0\n",
       "pain              1.0\n",
       "peristalsis       3.0\n",
       "abd_dist          2.0\n",
       "dtype: float64"
      ]
     },
     "execution_count": 615,
     "metadata": {},
     "output_type": "execute_result"
    }
   ],
   "source": [
    "# df.rec_temp.str.replace('?', 'NaN').head()\n",
    "meadian_vals = df.median()\n",
    "meadian_vals"
   ]
  },
  {
   "cell_type": "code",
   "execution_count": 650,
   "metadata": {},
   "outputs": [
    {
     "data": {
      "text/plain": [
       "age               1.0\n",
       "rec_temp         38.2\n",
       "pulse            64.0\n",
       "extr_temp         3.0\n",
       "muc_membranes     3.0\n",
       "pain              1.0\n",
       "peristalsis       3.0\n",
       "abd_dist          2.0\n",
       "dtype: float64"
      ]
     },
     "execution_count": 650,
     "metadata": {},
     "output_type": "execute_result"
    }
   ],
   "source": [
    "mode_vals = df.mode()\n",
    "mode_vals"
   ]
  },
  {
   "cell_type": "code",
   "execution_count": null,
   "metadata": {},
   "outputs": [],
   "source": [
    "# Задание 2. Выбросы.\n",
    "# В выбранных числовых столбцах найти выбросы, выдвинуть гипотезы об их причинах \n",
    "# и проинтерпретировать результаты. Принять и обосновать решение о дальнейшей работе с ними.\n",
    "# На основании результатов применения функции describe()к данным df можно заключить, \n",
    "# что в столбцах категориальных величин 'pulse', 'extr_temp', 'muc_membranes', 'pain', 'peristalsis', 'abd_dist'\n",
    "# нет выбросов\n"
   ]
  },
  {
   "cell_type": "code",
   "execution_count": 87,
   "metadata": {},
   "outputs": [
    {
     "name": "stdout",
     "output_type": "stream",
     "text": [
      "-0.625\n",
      "2.375\n",
      "24\n",
      "0\n"
     ]
    }
   ],
   "source": [
    "# Анализ выбросов для столбца 'age'\n",
    "firstQ = 0.5*df.age.median()\n",
    "thirdQ = 1.25*df.age.median()\n",
    "IQR = thirdQ - firstQ\n",
    "low_outlier = firstQ - 1.5*IQR\n",
    "high_outlier = thirdQ + 1.5*IQR\n",
    "\n",
    "print(low_outlier)\n",
    "print(high_outlier)\n",
    "\n",
    "# 24 выбросов -- можно заменить выброс на значение '1' как превалирующее в данных\n",
    "print(df.age[ df.age > high_outlier].count())\n",
    "print(df.age[ df.age < low_outlier].count())"
   ]
  },
  {
   "cell_type": "code",
   "execution_count": 79,
   "metadata": {},
   "outputs": [
    {
     "name": "stdout",
     "output_type": "stream",
     "text": [
      "-40.0\n",
      "152.0\n",
      "2      164.0\n",
      "54     160.0\n",
      "254    184.0\n",
      "Name: pulse, dtype: float64\n",
      "Series([], Name: pulse, dtype: float64)\n",
      "Percent of outliers: 0.0011%\n"
     ]
    }
   ],
   "source": [
    "# Анализ выбросов для столбца 'pulse'\n",
    "horse_data = pd.read_csv('horse_data.csv',na_values=['9', '?', 'NaN', 'NAN', None, np.nan, np.NaN, np.NAN])\n",
    "\n",
    "selected_categories = [1, 3, 4, 6, 8, 9, 11, 12]\n",
    "df = horse_data.iloc[:, selected_categories ]\n",
    "columns = ['age', 'rec_temp', 'pulse', 'extr_temp', 'muc_membranes', 'pain', 'peristalsis', 'abd_dist']\n",
    "df.columns = columns\n",
    "description = df.describe()\n",
    "description\n",
    "\n",
    "firstQ = 0.5*df.pulse.median()\n",
    "thirdQ = 1.25*df.pulse.median()\n",
    "IQR = thirdQ - firstQ\n",
    "low_outlier = firstQ - 1.5*IQR\n",
    "high_outlier = thirdQ + 1.5*IQR\n",
    "# df.pulse[ df.pulse > high_outlier]\n",
    "# df.loc[ [2, 54, 254], : ]\n",
    "# df.pulse[ df.pulse < low_outlier]\n",
    "\n",
    "print(low_outlier)\n",
    "print(high_outlier)\n",
    "\n",
    "# 3 выброса -- исходя из других показателей, можно сделать вывод, что причино выбросов яляется\n",
    "# наличие данных об очень больных животных\n",
    "# поскольку количество выросов ничтожно мало: 0.0011%, то можно и оставить\n",
    "\n",
    "print(df.pulse[ df.pulse > high_outlier])\n",
    "\n",
    "# no low outliers\n",
    "print(df.pulse[ df.pulse < low_outlier])\n",
    "idx = [2, 54, 254]\n",
    "df.loc[ idx, : ]\n",
    "print(f'Percent of outliers: {round(300/275000, 4)}%')"
   ]
  },
  {
   "cell_type": "code",
   "execution_count": 76,
   "metadata": {},
   "outputs": [
    {
     "name": "stdout",
     "output_type": "stream",
     "text": [
      "-23.874999999999993\n",
      "90.725\n",
      "Series([], Name: rec_temp, dtype: float64)\n",
      "Series([], Name: rec_temp, dtype: float64)\n"
     ]
    }
   ],
   "source": [
    "# Анализ выбросов для столбца 'rec_temp' \n",
    "firstQ = 0.5*df.rec_temp.median()\n",
    "thirdQ = 1.25*df.rec_temp.median()\n",
    "IQR = thirdQ - firstQ\n",
    "low_outlier = firstQ - 1.5*IQR\n",
    "high_outlier = thirdQ + 1.5*IQR\n",
    "\n",
    "\n",
    "print(low_outlier)\n",
    "print(high_outlier)\n",
    "\n",
    "# no low/high outliers\n",
    "print(df.rec_temp[ df.rec_temp > high_outlier])\n",
    "print(df.rec_temp[ df.rec_temp < low_outlier])"
   ]
  },
  {
   "cell_type": "code",
   "execution_count": 89,
   "metadata": {},
   "outputs": [],
   "source": [
    "# Задание 3. Работа с пропусками\n",
    "# Рассчитать количество пропусков для всех выбранных столбцов. \n",
    "# Принять и обосновать решение о методе работы с пропусками по каждому столбцу, \n",
    "# сформировать датафрейм, в котором пропуски будут отсутствовать.\n",
    "\n",
    "# Количество пропусков не превышает 60, то есть чуть больше 0.21% от размера данных. \n",
    "# К тому же, есть строки, в которых имеются пропуски для всех или нескольких столбцов, \n",
    "# например, df.iloc[27,:], df.iloc[86,:]\n",
    "# В такой ситуации можно рассматривать пропуски как MCAR и просто удалить строки с пропусками без потери информации."
   ]
  },
  {
   "cell_type": "code",
   "execution_count": 116,
   "metadata": {},
   "outputs": [
    {
     "data": {
      "text/plain": [
       "age              0\n",
       "rec_temp         0\n",
       "pulse            0\n",
       "extr_temp        0\n",
       "muc_membranes    0\n",
       "pain             0\n",
       "peristalsis      0\n",
       "abd_dist         0\n",
       "dtype: int64"
      ]
     },
     "execution_count": 116,
     "metadata": {},
     "output_type": "execute_result"
    }
   ],
   "source": [
    "# нет пропусков в столбце 'age'\n",
    "df.loc[pd.isnull(df.age), :].count()"
   ]
  },
  {
   "cell_type": "code",
   "execution_count": 118,
   "metadata": {},
   "outputs": [
    {
     "data": {
      "text/plain": [
       "age              60\n",
       "rec_temp          0\n",
       "pulse            42\n",
       "extr_temp        46\n",
       "muc_membranes    47\n",
       "pain             48\n",
       "peristalsis      46\n",
       "abd_dist         44\n",
       "dtype: int64"
      ]
     },
     "execution_count": 118,
     "metadata": {},
     "output_type": "execute_result"
    }
   ],
   "source": [
    "df.loc[pd.isnull(df.rec_temp), :].count()\n",
    "# df.head()"
   ]
  },
  {
   "cell_type": "code",
   "execution_count": 104,
   "metadata": {},
   "outputs": [
    {
     "data": {
      "text/plain": [
       "age              24\n",
       "rec_temp          6\n",
       "pulse             0\n",
       "extr_temp        15\n",
       "muc_membranes    15\n",
       "pain             13\n",
       "peristalsis      12\n",
       "abd_dist         15\n",
       "dtype: int64"
      ]
     },
     "execution_count": 104,
     "metadata": {},
     "output_type": "execute_result"
    }
   ],
   "source": [
    "df.loc[pd.isnull(df.pulse), :].count()"
   ]
  },
  {
   "cell_type": "code",
   "execution_count": 105,
   "metadata": {},
   "outputs": [
    {
     "data": {
      "text/plain": [
       "age              46\n",
       "rec_temp         33\n",
       "pulse            37\n",
       "extr_temp        12\n",
       "muc_membranes     0\n",
       "pain             22\n",
       "peristalsis      17\n",
       "abd_dist         13\n",
       "dtype: int64"
      ]
     },
     "execution_count": 105,
     "metadata": {},
     "output_type": "execute_result"
    }
   ],
   "source": [
    "df.loc[pd.isnull(df.muc_membranes), :].count()"
   ]
  },
  {
   "cell_type": "code",
   "execution_count": 120,
   "metadata": {},
   "outputs": [
    {
     "data": {
      "text/plain": [
       "age              44\n",
       "rec_temp         30\n",
       "pulse            32\n",
       "extr_temp         9\n",
       "muc_membranes    15\n",
       "pain             22\n",
       "peristalsis       0\n",
       "abd_dist         10\n",
       "dtype: int64"
      ]
     },
     "execution_count": 120,
     "metadata": {},
     "output_type": "execute_result"
    }
   ],
   "source": [
    "df.loc[pd.isnull(df.peristalsis), :].count()"
   ]
  },
  {
   "cell_type": "code",
   "execution_count": 109,
   "metadata": {},
   "outputs": [
    {
     "data": {
      "text/plain": [
       "age              56\n",
       "rec_temp         40\n",
       "pulse            47\n",
       "extr_temp        19\n",
       "muc_membranes    23\n",
       "pain             32\n",
       "peristalsis      22\n",
       "abd_dist          0\n",
       "dtype: int64"
      ]
     },
     "execution_count": 109,
     "metadata": {},
     "output_type": "execute_result"
    }
   ],
   "source": [
    "df.loc[pd.isnull(df.abd_dist), :].count()"
   ]
  }
 ],
 "metadata": {
  "kernelspec": {
   "display_name": "Python 3",
   "language": "python",
   "name": "python3"
  },
  "language_info": {
   "codemirror_mode": {
    "name": "ipython",
    "version": 3
   },
   "file_extension": ".py",
   "mimetype": "text/x-python",
   "name": "python",
   "nbconvert_exporter": "python",
   "pygments_lexer": "ipython3",
   "version": "3.8.3"
  }
 },
 "nbformat": 4,
 "nbformat_minor": 4
}
