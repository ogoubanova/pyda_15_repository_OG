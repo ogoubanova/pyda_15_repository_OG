{
 "cells": [
  {
   "cell_type": "code",
   "execution_count": null,
   "metadata": {},
   "outputs": [],
   "source": [
    "## Homework 2. Управляющие конструкции и коллекции.Часть 1."
   ]
  },
  {
   "cell_type": "code",
   "execution_count": null,
   "metadata": {},
   "outputs": [],
   "source": [
    "## Задача 1."
   ]
  },
  {
   "cell_type": "code",
   "execution_count": 38,
   "metadata": {},
   "outputs": [
    {
     "name": "stdout",
     "output_type": "stream",
     "text": [
      "c\n"
     ]
    }
   ],
   "source": [
    "word = 'Principle'\n",
    "##word = 'Copy'\n",
    "wd_len = len(word)\n",
    "\n",
    "\n",
    "if ( wd_len % 2 == 0 ): # even number\n",
    "#    idx = wd_len // 2\n",
    "    print(idx)\n",
    "    print(word[idx:idx+1])\n",
    "else:\n",
    "    idx = wd_len // 2\n",
    "#    print(idx)\n",
    "    print(word[idx])"
   ]
  },
  {
   "cell_type": "code",
   "execution_count": 8,
   "metadata": {},
   "outputs": [
    {
     "name": "stdout",
     "output_type": "stream",
     "text": [
      "Введите любое число: \n",
      " Введите 0, чтобы завершить программу\n",
      "0\n",
      "Сумма введенных чисел: 0\n",
      "\n"
     ]
    }
   ],
   "source": [
    "## Задача 2\n",
    "\n",
    "prompt ='Введите любое число: \\n Введите 0, чтобы завершить программу\\n'\n",
    "sum_num = 0\n",
    "while True:\n",
    "    num = input(prompt)\n",
    "    \n",
    "    if int(num) != 0: \n",
    "        sum_num += int(num) \n",
    "    else:\n",
    "        break\n",
    "    \n",
    "print(f'Сумма введенных чисел: {sum_num}\\n')\n",
    "    \n",
    "    "
   ]
  },
  {
   "cell_type": "code",
   "execution_count": 75,
   "metadata": {},
   "outputs": [
    {
     "name": "stdout",
     "output_type": "stream",
     "text": [
      "Средняя температура в странах:\n",
      "\n",
      "Thailand:\t23.9 C\n",
      "Germany :\t13.8 C\n",
      "Russia  :\t3.7 C\n",
      "Poland  :\t12.0 C\n"
     ]
    }
   ],
   "source": [
    "## Задача 4\n",
    "\n",
    "countries_temperature = [\n",
    "['Thailand', [75.2, 77, 78.8, 73.4, 68, 75.2, 77]],\n",
    "['Germany', [57.2, 55.4, 59, 59, 53.6]],\n",
    "['Russia', [35.6, 37.4, 39.2, 41, 42.8, 39.2, 35.6]],\n",
    "['Poland', [50, 50, 53.6, 57.2, 55.4, 55.4]]\n",
    "]\n",
    "\n",
    "print('Средняя температура в странах:\\n')\n",
    "\n",
    "for country_info in countries_temperature:\n",
    "    \n",
    "    country = country_info[0]\n",
    "    temps = country_info[1]\n",
    "    len_temps = len(temps)\n",
    "    ave_temps = sum(temps)/len_temps\n",
    "    ave_temps = 5*(ave_temps-32)/9\n",
    "    \n",
    "    print(f'{country:8s}:\\t{ave_temps:2.1f} C')\n",
    "    ##\n",
    "    ##\n",
    "    ##countries_temperature_C = [country, ave_temps]\n",
    "    \n",
    "## {countries_temperature_C[0] countries_temperature_C[1]}')"
   ]
  },
  {
   "cell_type": "code",
   "execution_count": 195,
   "metadata": {},
   "outputs": [
    {
     "name": "stdout",
     "output_type": "stream",
     "text": [
      "['Alex', 'Arthur', 'John', 'Peter', 'Richard']\n",
      "['Emma', 'Kate', 'Kira', 'Liza', 'Trisha']\n",
      "Идеальные пары:\n",
      "\n",
      "Richard и Trisha\n"
     ]
    }
   ],
   "source": [
    "## Задача 3\n",
    "\n",
    "boys = ['Peter', 'Alex', 'John', 'Arthur', 'Richard']\n",
    "girls = ['Kate', 'Liza', 'Kira', 'Emma', 'Trisha']\n",
    "\n",
    "#boys = ['Peter', 'Alex', 'John', 'Arthur', 'Richard', 'Michael']\n",
    "\n",
    "\n",
    "boys.sort()\n",
    "girls.sort()\n",
    "pairs = []\n",
    "\n",
    "print(boys)\n",
    "print(girls)\n",
    "\n",
    "if len(boys) == len(girls):\n",
    "    print('Идеальные пары:\\n')\n",
    "    for boy in boys:\n",
    "        for girl in girls:\n",
    "            pairs += [[ boy, girl]]\n",
    "    print(f'{boy} и {girl}')\n",
    "else:\n",
    "    print('\\nКто-то может остаться без пары\\n')\n",
    "    \n",
    "\n"
   ]
  },
  {
   "cell_type": "code",
   "execution_count": 204,
   "metadata": {},
   "outputs": [
    {
     "name": "stdout",
     "output_type": "stream",
     "text": [
      "Среднее количество просмотров на уникального пользователя:  23.25\n"
     ]
    }
   ],
   "source": [
    "stream = [\n",
    "'2018-01-01,user1,3',\n",
    "'2018-01-07,user1,4',\n",
    "'2018-03-29,user1,1',\n",
    "'2018-04-04,user1,13',\n",
    "'2018-01-05,user2,7',\n",
    "'2018-06-14,user3,4',\n",
    "'2018-07-02,user3,10',\n",
    "'2018-03-21,user4,19',\n",
    "'2018-03-22,user4,4',\n",
    "'2018-04-22,user4,8',\n",
    "'2018-05-03,user4,9',\n",
    "'2018-05-11,user4,11',\n",
    "]\n",
    "\n",
    "stream2 = [\n",
    "'2018-01-01,user100,150',\n",
    "'2018-01-07,user99,205',\n",
    "'2018-03-29,user1001,81'\n",
    "]\n",
    "\n",
    "res = {}\n",
    "ii=0\n",
    "sum_views = 0\n",
    "num_keys = 0\n",
    "\n",
    "for item in stream:\n",
    "    \n",
    "    splitted_item = item.strip().split(',')\n",
    "    #print(splitted_item)\n",
    "    \n",
    "    ii += 1\n",
    "    #print('Iteration #', ii, ' processing line', splitted_item, '\\n')\n",
    "    if splitted_item[1] not in res:\n",
    "        #print('First occurance: ', splitted_item[1], splitted_item[2], '\\n')\n",
    "        res[splitted_item[1]] = int(splitted_item[2])\n",
    "        \n",
    "        #cnt[splitted_item[1]] = 1\n",
    "        #print(cnt[splitted_item[1]])\n",
    "    else:\n",
    "        #print('Occurance: ', splitted_item[1], splitted_item[2], '\\n')\n",
    "        res[splitted_item[1]] += int(splitted_item[2])\n",
    "        #cnt[splitted_item[1]] = int(cnt[splitted_item[1]]) + 1\n",
    "     \n",
    "    num_keys = len(res.keys())\n",
    "    sum_views += int(splitted_item[2])\n",
    "    #sum_views = sum(int(splitted_item[2])\n",
    "    #print(sum_views)\n",
    "                    \n",
    "    #sum_users = sum(int(cnt[splitted_item[1]])\n",
    "    #print(sum_users)\n",
    "    #print(cnt[splitted_item[1]])\n",
    "    \n",
    "\n",
    "    #res[splitted_item[1]] = res[splitted_item[1]]/cnt[splitted_item[1]]\n",
    "print('Среднее количество просмотров на уникального пользователя: ', sum_views/num_keys)        \n",
    "#print('\\n', res)"
   ]
  },
  {
   "cell_type": "code",
   "execution_count": null,
   "metadata": {},
   "outputs": [],
   "source": []
  },
  {
   "cell_type": "code",
   "execution_count": null,
   "metadata": {},
   "outputs": [],
   "source": []
  }
 ],
 "metadata": {
  "kernelspec": {
   "display_name": "Python 3",
   "language": "python",
   "name": "python3"
  },
  "language_info": {
   "codemirror_mode": {
    "name": "ipython",
    "version": 3
   },
   "file_extension": ".py",
   "mimetype": "text/x-python",
   "name": "python",
   "nbconvert_exporter": "python",
   "pygments_lexer": "ipython3",
   "version": "3.8.3"
  }
 },
 "nbformat": 4,
 "nbformat_minor": 4
}
