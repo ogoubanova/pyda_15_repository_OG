{
 "cells": [
  {
   "cell_type": "code",
   "execution_count": 1,
   "metadata": {},
   "outputs": [],
   "source": [
    "## Homework 1"
   ]
  },
  {
   "cell_type": "code",
   "execution_count": null,
   "metadata": {},
   "outputs": [],
   "source": [
    "### Задача 2\n",
    "\n",
    "while True:\n",
    "    year = int(input('Введите год: '))\n",
    "    print('Нажмите 0, чтобы завершить программу\\n')\n",
    "    \n",
    "    if ( year % 4 == 0 ) or ( year % 100 == 0):\n",
    "        print(f'{year%4}\\n')\n",
    "        print('Это високосный год')\n",
    "    elif int(year) == 0:\n",
    "        break\n",
    "    else:\n",
    "        print('Это обынчый год')"
   ]
  },
  {
   "cell_type": "code",
   "execution_count": 16,
   "metadata": {},
   "outputs": [
    {
     "name": "stdout",
     "output_type": "stream",
     "text": [
      "Введите строку: \n",
      "let me not to the marriage of true minds admit impediments\n",
      "Введите вторую строку: \n",
      "love is not love\n",
      "Первая строка длиннее второй\n",
      "\n"
     ]
    }
   ],
   "source": [
    "### Задача 1\n",
    "\n",
    "prase_1 = input('Введите строку: \\n')\n",
    "len1 = len(prase_1)\n",
    "\n",
    "prase_2 = input('Введите вторую строку: \\n')\n",
    "len2 = len(prase_2)\n",
    "\n",
    "if len1 > len2:\n",
    "    print('Первая строка длиннее второй\\n')\n",
    "elif len2 > len1:\n",
    "    print('Вторая строка длиннее первой\\n')\n",
    "elif len1 == len2:\n",
    "    print('Строки равны\\n')\n"
   ]
  },
  {
   "cell_type": "code",
   "execution_count": 22,
   "metadata": {},
   "outputs": [
    {
     "name": "stdout",
     "output_type": "stream",
     "text": [
      "Введите ширину: \n",
      "15\n",
      "Введите длину: \n",
      "20\n",
      "Введите высоту: \n",
      "39\n",
      "Коробка №2\n"
     ]
    }
   ],
   "source": [
    "### Задача 4\n",
    "\n",
    "width = int(input('Введите ширину: \\n'))\n",
    "length = int(input('Введите длину: \\n'))\n",
    "height = int(input('Введите высоту: \\n'))\n",
    "\n",
    "if (width < 15) and (length < 15) and (height < 15):\n",
    "    print('Коробка №1')\n",
    "elif ( 15 < width < 50 ) or (15 < height < 50 ) or ( 15 < length < 50) :\n",
    "    print('Коробка №2')   \n",
    "elif length > 200:\n",
    "    print('Упаковка для лыж')\n",
    "else:\n",
    "    print('Стандартная коробка №3')"
   ]
  },
  {
   "cell_type": "code",
   "execution_count": 20,
   "metadata": {},
   "outputs": [
    {
     "name": "stdout",
     "output_type": "stream",
     "text": [
      "Введите месяц: \n",
      "декабрь\n",
      "Введите день: \n",
      "27\n",
      "Поздравляю! Вы -- Козерог!\n",
      "\n"
     ]
    }
   ],
   "source": [
    "## Задача 3\n",
    "\n",
    "months = [['январь',31], ['февраль', 28], ['март',31], ['апрель',30], ['май', 31], \\\n",
    "          ['июнь', 30], ['июль', 31], ['aвгуст',31], ['сентябрь',30], ['октябрь',31],\\\n",
    "          ['ноябрь', 30], ['декабрь',31]]\n",
    "\n",
    "my_month = input('Введите месяц: \\n')\n",
    "my_day = input('Введите день: \\n')\n",
    "#print('Нажмите 0, чтобы закончить программу\\n')\n",
    "\n",
    "\n",
    "if (my_month == 'декабрь' and int(my_day) > 21 ) or (int(my_day) <=20 and my_month == 'январь'):\n",
    "    print('Поздравляю! Вы -- Козерог!\\n')\n",
    "elif (my_month == 'январь' and int(my_day) > 20 ) or (int(my_day) <=19 and my_month == 'февраль'):\n",
    "    print('Поздравляю! Вы -- Водолей!\\n')\n",
    "elif (my_month == 'февраль' and int(my_day) > 19 ) or (int(my_day) <=20 and my_month == 'март'):\n",
    "    print('Поздравляю! Вы -- Рыбы!\\n')\n",
    "elif (my_month == 'март' and int(my_day) > 20 ) or (int(my_day) <=20 and my_month == 'апрель'):\n",
    "    print('Поздравляю! Вы -- Овен!\\n')\n",
    "elif (my_month == 'апрель' and int(my_day) > 20 ) or (int(my_day) <=21 and my_month == 'май'):\n",
    "    print('Поздравляю! Вы -- Телец!\\n')\n",
    "elif (my_month == 'май' and int(my_day) > 21 ) or (int(my_day) <=21 and my_month == 'июнь'):\n",
    "    print('Поздравляю! Вы -- Близнецы!\\n')\n",
    "elif (my_month == 'июнь' and int(my_day) > 21 ) or (int(my_day) <=22 and my_month == 'июль'):\n",
    "    print('Поздравляю! Вы -- Рак!\\n')\n",
    "elif (my_month == 'июль' and int(my_day) > 22 ) or (int(my_day) <=22 and my_month == 'август'):\n",
    "    print('Поздравляю! Вы -- Лев!\\n')\n",
    "elif (my_month == 'август' and int(my_day) > 22 ) or (int(my_day) <=22 and my_month == 'сентябрь'):\n",
    "    print('Поздравляю! Вы -- Дева!\\n')\n",
    "elif (my_month == 'сентябрь' and int(my_day) > 23 ) or (int(my_day) <=22 and my_month == 'октябрь'):\n",
    "    print('Поздравляю! Вы -- Весы!\\n')\n",
    "elif (my_month == 'октябрь' and int(my_day) > 22 ) or (int(my_day) <=22 and my_month == 'ноябрь'):\n",
    "    print('Поздравляю! Вы -- Скорпион!\\n')\n",
    "elif (my_month == 'ноябрь' and int(my_day) > 22 ) or (int(my_day) <=21 and my_month == 'декабрь'):\n",
    "    print('Поздравляю! Вы -- Стрелец!\\n')\n",
    "elif  my_month == 0 or int(my_day) == 0:\n",
    "    exit\n",
    "    \n",
    "\n",
    "    "
   ]
  },
  {
   "cell_type": "code",
   "execution_count": null,
   "metadata": {},
   "outputs": [],
   "source": []
  },
  {
   "cell_type": "code",
   "execution_count": null,
   "metadata": {},
   "outputs": [],
   "source": []
  },
  {
   "cell_type": "code",
   "execution_count": null,
   "metadata": {},
   "outputs": [],
   "source": []
  }
 ],
 "metadata": {
  "kernelspec": {
   "display_name": "Python 3",
   "language": "python",
   "name": "python3"
  }
 },
 "nbformat": 4,
 "nbformat_minor": 4
}
