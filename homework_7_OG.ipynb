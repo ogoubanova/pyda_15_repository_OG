{
 "cells": [
  {
   "cell_type": "code",
   "execution_count": 23,
   "metadata": {},
   "outputs": [
    {
     "name": "stdout",
     "output_type": "stream",
     "text": [
      "2002-10-02 00:00:00\n",
      "2013-10-11 00:00:00\n",
      "1977-08-18 00:00:00\n"
     ]
    }
   ],
   "source": [
    "## ДЗ 7. Исключения и обработка ошибок. Задание 1. OG\n",
    "\n",
    "from datetime import datetime\n",
    "\n",
    "the_moscow_times = 'Wednesday, October 2, 2002'\n",
    "mt_datetime = datetime.strptime(the_moscow_times, '%A, %B %d, %Y')\n",
    "print(mt_datetime)\n",
    "\n",
    "the_guardian = 'Friday, 11.10.13'\n",
    "gd_datetime = datetime.strptime(the_guardian, '%A, %d.%m.%y')\n",
    "print(gd_datetime)\n",
    " \n",
    "\n",
    "daily_news = 'Thursday, 18 August 1977'\n",
    "dn_datetime = datetime.strptime(daily_news, '%A, %d %B %Y')\n",
    "print(dn_datetime)"
   ]
  },
  {
   "cell_type": "code",
   "execution_count": 63,
   "metadata": {},
   "outputs": [
    {
     "name": "stdout",
     "output_type": "stream",
     "text": [
      "Ошибка в данных: 2018-02-29\n",
      "Ошибка в данных: 2018-19-02\n",
      "Ошибка в данных: ['2018-04-02', '2018-02-29', '2018-19-02']\n"
     ]
    },
    {
     "data": {
      "text/plain": [
       "False"
      ]
     },
     "execution_count": 63,
     "metadata": {},
     "output_type": "execute_result"
    }
   ],
   "source": [
    "# Задание 2\n",
    "# Дан поток дат в формате YYYY-MM-DD, в которых встречаются некорректные значения:\n",
    "# stream = [‘2018-04-02’, ‘2018-02-29’, ‘2018-19-02’]\n",
    "\n",
    "# Напишите функцию, которая проверяет эти даты на корректность. \n",
    "# Т. е. для каждой даты возвращает True (дата корректна) или False (некорректная дата).\n",
    "\n",
    "from datetime import datetime\n",
    "\n",
    "stream = ['2018-04-02', '2018-02-29', '2018-19-02']\n",
    "\n",
    "data_info = {}\n",
    "\n",
    "def check_data(item):\n",
    "\n",
    "    \n",
    "    try:\n",
    "        date_datetime = datetime.strptime(item, '%Y-%m-%d') \n",
    "        return True\n",
    "    except:\n",
    "        print(f'Ошибка в данных: {item}') #.format(item))\n",
    "        return False\n",
    "###############################################################    \n",
    "ii = 0\n",
    "for item in stream:\n",
    "#     print(item)\n",
    "    check_data(item)\n",
    "\n",
    "    \n",
    "###################################################################\n",
    "check_data(stream)"
   ]
  },
  {
   "cell_type": "code",
   "execution_count": 62,
   "metadata": {},
   "outputs": [
    {
     "name": "stdout",
     "output_type": "stream",
     "text": [
      "\n",
      "Начальная дата 2020-11-01 должна быть меньше конечной 2020-10-07\n",
      "\n",
      "[]\n",
      "['2020-11-01', '2020-11-02', '2020-11-03', '2020-11-04', '2020-11-05', '2020-11-06', '2020-11-07']\n",
      "\n",
      "Даты 20201101, 20201107 не соответствуют формату\n",
      "\n",
      "[]\n"
     ]
    }
   ],
   "source": [
    "## Задание 3\n",
    "# Напишите функцию date_range, которая возвращает список дат за период \n",
    "## от start_date до end_date. Даты должны вводиться в формате YYYY-MM-DD. \n",
    "## В случае неверного формата или при start_date > end_date должен возвращаться пустой список.\n",
    "\n",
    "import traceback\n",
    "from datetime import datetime\n",
    "from datetime import timedelta\n",
    "\n",
    "def check_range(sdt, edt):\n",
    "    out_list = []\n",
    "    \n",
    "    try:\n",
    "        start_date_datetime = datetime.strptime(sdt, '%Y-%m-%d')\n",
    "#         print(start_date_datetime)\n",
    "        end_date_datetime = datetime.strptime(edt, '%Y-%m-%d')\n",
    "#         print(end_date_datetime)\n",
    "    \n",
    "        current_dt = start_date_datetime\n",
    "   \n",
    "        if start_date_datetime < end_date_datetime:\n",
    "            while current_dt.strftime('%Y-%m-%d') <= edt:\n",
    "#             print(current_dt.strftime('%Y-%m-%d'))\n",
    "                tmp_str = current_dt.strftime('%Y-%m-%d')\n",
    "                out_list.append(tmp_str)\n",
    "                current_dt += timedelta(days=1)\n",
    "            return out_list\n",
    "        else:\n",
    "            print(f'\\nНачальная дата {sdt} должна быть меньше конечной {edt}\\n')\n",
    "            return []\n",
    "    except ValueError:\n",
    "        print(f'\\nДаты {sdt}, {edt} не соответствуют формату\\n')\n",
    "        return []\n",
    "\n",
    "########################################################################################\n",
    "start_date = '2020-11-01'\n",
    "end_date = '2020-10-07'\n",
    "out_list = check_range(start_date, end_date)\n",
    "print(out_list)\n",
    "\n",
    "start_date = '2020-11-01'\n",
    "end_date = '2020-11-07'\n",
    "out_list = check_range(start_date, end_date)\n",
    "print(out_list)\n",
    "\n",
    "start_date = '20201101'\n",
    "end_date = '20201107'\n",
    "out_list = check_range(start_date, end_date)\n",
    "print(out_list)"
   ]
  },
  {
   "cell_type": "code",
   "execution_count": null,
   "metadata": {},
   "outputs": [],
   "source": []
  }
 ],
 "metadata": {
  "kernelspec": {
   "display_name": "Python 3",
   "language": "python",
   "name": "python3"
  },
  "language_info": {
   "codemirror_mode": {
    "name": "ipython",
    "version": 3
   },
   "file_extension": ".py",
   "mimetype": "text/x-python",
   "name": "python",
   "nbconvert_exporter": "python",
   "pygments_lexer": "ipython3",
   "version": "3.8.3"
  }
 },
 "nbformat": 4,
 "nbformat_minor": 4
}
