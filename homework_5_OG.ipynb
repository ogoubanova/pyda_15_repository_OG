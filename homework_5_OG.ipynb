{
 "cells": [
  {
   "cell_type": "code",
   "execution_count": 10,
   "metadata": {},
   "outputs": [
    {
     "name": "stdout",
     "output_type": "stream",
     "text": [
      "Processed 99999.0 lines. Number of keys 99517\n",
      "\n"
     ]
    }
   ],
   "source": [
    "## Homework 5. Запись и чтениие из файлов. OG\n",
    "## Задание 1.\n",
    "\n",
    "import json\n",
    "\n",
    "ii = 0.0\n",
    "purchases = {}\n",
    "\n",
    "with open('purchase_log.txt', encoding='utf-8') as f:\n",
    "    f.readline()\n",
    "    with open('purchases.txt', 'w') as f2write:\n",
    "        for line in f:\n",
    "            item = json.loads(line.strip())\n",
    "            key = str(item['user_id'])\n",
    "            value = str(item['category'])\n",
    "            purchases[key] = value\n",
    "            ii += 1\n",
    "#             print(purchases)\n",
    "\n",
    "#             if ii > 5:\n",
    "#                 break\n",
    "            \n",
    "            \n",
    "            \n",
    "print(f'Processed {ii} lines. Number of keys {len(purchases.keys())}\\n')"
   ]
  },
  {
   "cell_type": "code",
   "execution_count": 1,
   "metadata": {},
   "outputs": [
    {
     "ename": "NameError",
     "evalue": "name 'purchases' is not defined",
     "output_type": "error",
     "traceback": [
      "\u001b[1;31m---------------------------------------------------------------------------\u001b[0m",
      "\u001b[1;31mNameError\u001b[0m                                 Traceback (most recent call last)",
      "\u001b[1;32m<ipython-input-1-a137972471c4>\u001b[0m in \u001b[0;36m<module>\u001b[1;34m\u001b[0m\n\u001b[0;32m     10\u001b[0m             \u001b[0mline_visits\u001b[0m \u001b[1;33m=\u001b[0m \u001b[0mline_visits\u001b[0m\u001b[1;33m.\u001b[0m\u001b[0mstrip\u001b[0m\u001b[1;33m(\u001b[0m\u001b[1;34m'\\n'\u001b[0m\u001b[1;33m)\u001b[0m\u001b[1;33m.\u001b[0m\u001b[0msplit\u001b[0m\u001b[1;33m(\u001b[0m\u001b[1;34m','\u001b[0m\u001b[1;33m)\u001b[0m\u001b[1;33m\u001b[0m\u001b[1;33m\u001b[0m\u001b[0m\n\u001b[0;32m     11\u001b[0m \u001b[1;33m\u001b[0m\u001b[0m\n\u001b[1;32m---> 12\u001b[1;33m             \u001b[1;32mif\u001b[0m \u001b[0mline_visits\u001b[0m\u001b[1;33m[\u001b[0m\u001b[1;36m0\u001b[0m\u001b[1;33m]\u001b[0m \u001b[1;32min\u001b[0m \u001b[0mpurchases\u001b[0m\u001b[1;33m:\u001b[0m\u001b[1;33m\u001b[0m\u001b[1;33m\u001b[0m\u001b[0m\n\u001b[0m\u001b[0;32m     13\u001b[0m                 \u001b[0mcategory\u001b[0m \u001b[1;33m=\u001b[0m \u001b[0mpurchases\u001b[0m\u001b[1;33m[\u001b[0m\u001b[0mline_visits\u001b[0m\u001b[1;33m[\u001b[0m\u001b[1;36m0\u001b[0m\u001b[1;33m]\u001b[0m\u001b[1;33m]\u001b[0m\u001b[1;33m\u001b[0m\u001b[1;33m\u001b[0m\u001b[0m\n\u001b[0;32m     14\u001b[0m \u001b[1;33m\u001b[0m\u001b[0m\n",
      "\u001b[1;31mNameError\u001b[0m: name 'purchases' is not defined"
     ]
    }
   ],
   "source": [
    "## Задание 2\n",
    "\n",
    "ii = 0\n",
    "\n",
    "with open('visit_log.csv', 'r', encoding = 'utf-8') as f_visit:\n",
    "    f_visit.readline()\n",
    "    with open('funnel.csv', 'w', encoding = 'utf-8') as f2write:\n",
    "        for line_visits in f_visit:\n",
    "            line_visits = line_visits.strip('\\n').split(',')\n",
    "            \n",
    "            if line_visits[0] in purchases:\n",
    "                category = purchases[line_visits[0]]\n",
    "                \n",
    "                f2write.write(f'{line_visits[0]}, {line_visits[1]}, {category}\\n')\n",
    "                \n",
    "                ii += 1    \n",
    "                if ii < 10:\n",
    "                    print(f'{line_visits[0]}, {line_visits[1]}, {category}\\n')\n",
    "\n",
    "print(f'Processed {ii} lines.\\n')"
   ]
  },
  {
   "cell_type": "code",
   "execution_count": null,
   "metadata": {},
   "outputs": [],
   "source": [
    "\n"
   ]
  }
 ],
 "metadata": {
  "kernelspec": {
   "display_name": "Python 3",
   "language": "python",
   "name": "python3"
  },
  "language_info": {
   "codemirror_mode": {
    "name": "ipython",
    "version": 3
   },
   "file_extension": ".py",
   "mimetype": "text/x-python",
   "name": "python",
   "nbconvert_exporter": "python",
   "pygments_lexer": "ipython3",
   "version": "3.8.3"
  }
 },
 "nbformat": 4,
 "nbformat_minor": 4
}
